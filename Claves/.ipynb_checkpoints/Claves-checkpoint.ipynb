{
 "cells": [
  {
   "cell_type": "code",
   "execution_count": 38,
   "metadata": {},
   "outputs": [],
   "source": [
    "import os\n",
    "import easygui as gui\n",
    "import pandas as pd\n",
    "import unicodedata as un"
   ]
  },
  {
   "cell_type": "code",
   "execution_count": 149,
   "metadata": {},
   "outputs": [],
   "source": [
    "def murcielago(text:str)->str:\n",
    "    murcielago_str='murcielago'\n",
    "    text=un.normalize('NFKD',text).encode('ascii', errors='ignore').decode('utf-8').lower().strip()\n",
    "    result=[]\n",
    "    for char in text:\n",
    "        if char in murcielago_str:\n",
    "            result.append(str(murcielago_str.find(char)))\n",
    "        elif ord(char) in range(48,58):\n",
    "            result.append(murcielago_str[ord(char)-48])\n",
    "        else:\n",
    "            result.append(char)\n",
    "    return ''.join(result)"
   ]
  },
  {
   "cell_type": "code",
   "execution_count": 150,
   "metadata": {},
   "outputs": [],
   "source": [
    "def carlina_betfuse(text:str)->str:\n",
    "    result=[]\n",
    "    carlina_str='carlina'\n",
    "    betfuse_str='betfuse'\n",
    "    text=un.normalize('NFKD',text).encode('ascii', errors='ignore').decode('utf-8').lower().strip()\n",
    "    for char in text:\n",
    "        if char in carlina_str:\n",
    "            result.append(betfuse_str[carlina_str.find(char)])\n",
    "        elif char in betfuse_str:\n",
    "            result.append(carlina_str[betfuse_str.find(char)])\n",
    "        else:\n",
    "            result.append(char)\n",
    "    return ''.join(result)"
   ]
  },
  {
   "cell_type": "code",
   "execution_count": 148,
   "metadata": {},
   "outputs": [],
   "source": [
    "def dametupico(text:str)->str:\n",
    "    result=[]\n",
    "    dm_str='dmtpc'\n",
    "    ae_str='aeuio'\n",
    "    text=un.normalize('NFKD',text).encode('ascii', errors='ignore').decode('utf-8').lower().strip()\n",
    "    for char in text:\n",
    "        if char in dm_str:\n",
    "            result.append(ae_str[dm_str.find(char)])\n",
    "        elif char in ae_str:\n",
    "            result.append(dm_str[ae_str.find(char)])\n",
    "        else:\n",
    "            result.append(char)\n",
    "    return ''.join(result)            "
   ]
  },
  {
   "cell_type": "code",
   "execution_count": 129,
   "metadata": {},
   "outputs": [],
   "source": [
    "def argentina_decode(text:str)->str:\n",
    "    result=[]\n",
    "    key=[]\n",
    "    arg_df=pd.DataFrame(data=[list('abcdefghi'),list('jklmnñopq'),list('rstuvwxyz')],index=['i','ii','iii'],columns=['a','r','g','e','n','t','i+','n2','a2'])\n",
    "    text=un.normalize('NFKD',text).encode('ascii', errors='ignore').decode('utf-8').lower().strip()\n",
    "    for char in text:\n",
    "        if char in 'argentina2':\n",
    "            key.append(char)\n",
    "        elif char=='/':\n",
    "            key=''.join(key)\n",
    "            if (key=='ii') or (key=='iii') or (key=='iiii'):\n",
    "                result.append(arg_df.loc[key[1:],'i+'])\n",
    "                key=[]\n",
    "            else:\n",
    "                result.append(arg_df.loc[key[key.find('i'):],key[:key.find('i')]])\n",
    "                key=[]\n",
    "        else:\n",
    "            result.append(char)\n",
    "    return ''.join(result)"
   ]
  },
  {
   "cell_type": "code",
   "execution_count": 141,
   "metadata": {},
   "outputs": [],
   "source": [
    "def argentina_encode(text:str)->str:\n",
    "    result=[]\n",
    "    arg_df=pd.DataFrame(data=[list('abcdefghi'),list('jklmnñopq'),list('rstuvwxyz')],index=['i','ii','iii'],columns=['a','r','g','e','n','t','i+','n2','a2'])\n",
    "    text=un.normalize('NFKD',text).encode('ascii', errors='ignore').decode('utf-8').lower().strip()\n",
    "    for char in text:\n",
    "        found=False\n",
    "        for i in range(len(arg_df.index)):\n",
    "            for j in range(len(arg_df.columns)):\n",
    "                if arg_df.iloc[i,j]==char:\n",
    "                    found=True\n",
    "                    if arg_df.columns[j]=='i+':\n",
    "                        result.append('i{}/'.format(arg_df.index[i]))\n",
    "                    else:\n",
    "                        result.append('{}{}/'.format(arg_df.columns[j],arg_df.index[i]))\n",
    "        if found==False:\n",
    "            result.append(char)\n",
    "    return ''.join(result)"
   ]
  },
  {
   "cell_type": "code",
   "execution_count": 151,
   "metadata": {},
   "outputs": [
    {
     "data": {
      "text/plain": [
       "'murcielago 0123456789'"
      ]
     },
     "execution_count": 151,
     "metadata": {},
     "output_type": "execute_result"
    }
   ],
   "source": [
    "murcielago('0123456789 murcielagó')"
   ]
  },
  {
   "cell_type": "code",
   "execution_count": 155,
   "metadata": {},
   "outputs": [
    {
     "data": {
      "text/plain": [
       "'ademutipoc dametupico'"
      ]
     },
     "execution_count": 155,
     "metadata": {},
     "output_type": "execute_result"
    }
   ],
   "source": [
    "dametupico('dametupico ademütipóc')"
   ]
  },
  {
   "cell_type": "code",
   "execution_count": null,
   "metadata": {},
   "outputs": [],
   "source": []
  },
  {
   "cell_type": "code",
   "execution_count": null,
   "metadata": {},
   "outputs": [],
   "source": []
  },
  {
   "cell_type": "code",
   "execution_count": null,
   "metadata": {},
   "outputs": [],
   "source": []
  }
 ],
 "metadata": {
  "kernelspec": {
   "display_name": "Python 3",
   "language": "python",
   "name": "python3"
  },
  "language_info": {
   "codemirror_mode": {
    "name": "ipython",
    "version": 3
   },
   "file_extension": ".py",
   "mimetype": "text/x-python",
   "name": "python",
   "nbconvert_exporter": "python",
   "pygments_lexer": "ipython3",
   "version": "3.6.5"
  }
 },
 "nbformat": 4,
 "nbformat_minor": 2
}
